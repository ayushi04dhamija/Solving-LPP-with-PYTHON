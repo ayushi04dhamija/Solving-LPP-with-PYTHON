{
 "cells": [
  {
   "cell_type": "markdown",
   "metadata": {},
   "source": [
    "# LINEAR PROGRAMMING PROBLEM ANALYSIS\n",
    "\n",
    "## WHAT DO YOU MEAN BY LINEAR PROGRAMMING?\n",
    "\n",
    "###Linear programming is a mathematical technique for maximizing and minimizing a linear function of several variables,such as output or cost.\n",
    "\n",
    "In daily Analytics ,LPP is a approach to come up with the best possible outcome using mathematical model to identify extreme min or max approach to find the linear relationship with the dataset. Which help us optimizing and help finding a feasible point or region for the problem.\n",
    "\n",
    "### HOW TO DO LINEAR PROGRAMMING?\n",
    "We will understand LPP by solving the following statement:\n",
    "\n",
    "A car company produces 2 models, model A and model B. Long-term projections indicate an expected demand of at least 100 model A cars and 80 model B cars each day. Because of limitations on production capacity, no more than 200 model A cars and 170 model B cars can be made daily. To satisfy a shipping contract, a total of at least 200 cars much be shipped each day. If each model A car sold results in a $2000 loss,but each model B car produces a $5000 profit, how many of each type should be made daily to maximize net profits?\n",
    "\n",
    "### SOLUTION:\n",
    "x= number of model A car\n",
    "\n",
    "y= number of model B car\n",
    "\n",
    "OBJECTIVE FUNCTION:\n",
    "\n",
    "z= -2000x+5000y\n",
    "\n",
    "WE HAVE TO MAXIMIZE THIS Z\n",
    "\n",
    "And the constraints are\n",
    "\n",
    "x>=100 {Demand of Model A}\n",
    "\n",
    "y>=80 {Demand of Model B}\n",
    "\n",
    "x<=200 {Model A’s Production Limit}\n",
    "\n",
    "y<=170 {Model B’s Production Limit}\n",
    "\n",
    "x+y>=200 {Transportation Contract}\n"
   ]
  },
  {
   "cell_type": "markdown",
   "metadata": {},
   "source": [
    "#### IMPORTING MODULES"
   ]
  },
  {
   "cell_type": "code",
   "execution_count": 1,
   "metadata": {},
   "outputs": [],
   "source": [
    "from scipy.optimize import linprog\n",
    "import numpy as np"
   ]
  },
  {
   "cell_type": "markdown",
   "metadata": {},
   "source": [
    "###Objective function is going to be stored in z variable, this variable is going to store coefficients of the objective function."
   ]
  },
  {
   "cell_type": "code",
   "execution_count": 3,
   "metadata": {},
   "outputs": [],
   "source": [
    "z=np.array([-2000,5000])\n"
   ]
  },
  {
   "cell_type": "markdown",
   "metadata": {},
   "source": [
    "####After stored our Objective Function, we need to set Constraints\n",
    "Constraints values are going to be stored in C variable and must be 2-D Array, this variable is going to store all constraints of the problem."
   ]
  },
  {
   "cell_type": "code",
   "execution_count": 4,
   "metadata": {},
   "outputs": [],
   "source": [
    "C=np.array(\n",
    "    [-1,-1]\n",
    ")"
   ]
  },
  {
   "cell_type": "markdown",
   "metadata": {},
   "source": [
    "###Set upper-bounds values for each Constraints.\n",
    "Upper-bounds values are going to be stored in b variable and must be 1-D Array. In this case we need to store 5 and 45 for each constraint."
   ]
  },
  {
   "cell_type": "code",
   "execution_count": 5,
   "metadata": {},
   "outputs": [],
   "source": [
    "b=np.array([200])"
   ]
  },
  {
   "cell_type": "code",
   "execution_count": 6,
   "metadata": {},
   "outputs": [],
   "source": [
    "x1 = (100,200)\n",
    "x2 = (80,170)"
   ]
  },
  {
   "cell_type": "markdown",
   "metadata": {},
   "source": [
    "###To solve the problem, we need to call linprog and store the solution in a variable.\n",
    "\n",
    "This LP problem has a maximize objective function and linprog supports minimize problems. To solve it:\n",
    "\n",
    " min(z(x)) = max(-z(x)) "
   ]
  },
  {
   "cell_type": "code",
   "execution_count": 7,
   "metadata": {},
   "outputs": [],
   "source": [
    "sol =linprog(-z,A_ub = C,b_ub = b,bounds = (x1, x2),method='simplex')"
   ]
  },
  {
   "cell_type": "code",
   "execution_count": 8,
   "metadata": {},
   "outputs": [
    {
     "data": {
      "text/plain": [
       "     fun: -650000.0\n",
       " message: 'Optimization terminated successfully.'\n",
       "     nit: 3\n",
       "   slack: array([470., 100.,   0.,  90.,   0.])\n",
       "  status: 0\n",
       " success: True\n",
       "       x: array([100., 170.])"
      ]
     },
     "execution_count": 8,
     "metadata": {},
     "output_type": "execute_result"
    }
   ],
   "source": [
    "sol"
   ]
  },
  {
   "cell_type": "markdown",
   "metadata": {},
   "source": [
    "### To insert the values that we need :"
   ]
  },
  {
   "cell_type": "code",
   "execution_count": 9,
   "metadata": {},
   "outputs": [
    {
     "name": "stdout",
     "output_type": "stream",
     "text": [
      "x1 = 100.0, x2 = 170.0, z = 650000.0\n"
     ]
    }
   ],
   "source": [
    "print(\"x1 = {}, x2 = {}, z = {}\".format(sol.x[0], sol.x[1], sol.fun*-1))"
   ]
  },
  {
   "cell_type": "markdown",
   "metadata": {},
   "source": [
    "###Our LP problem is solved, to check the result just replace the values x1 and x2 into the objective function:\n",
    "\n",
    "      z(MAX)=650000"
   ]
  },
  {
   "cell_type": "code",
   "execution_count": 10,
   "metadata": {},
   "outputs": [
    {
     "name": "stdout",
     "output_type": "stream",
     "text": [
      "z = 650000.0\n"
     ]
    }
   ],
   "source": [
    "OF = z*sol.x\n",
    "print(\"z = {}\".format(OF.sum()))"
   ]
  },
  {
   "cell_type": "markdown",
   "metadata": {},
   "source": [
    "## THIS LINEAR PROGRAMMING PROBLEM HAS BEEN SOLVED WITH THE MAXIMISATION OF Z VALUE= 650000."
   ]
  }
 ],
 "metadata": {
  "kernelspec": {
   "display_name": "Python 3",
   "language": "python",
   "name": "python3"
  },
  "language_info": {
   "codemirror_mode": {
    "name": "ipython",
    "version": 3
   },
   "file_extension": ".py",
   "mimetype": "text/x-python",
   "name": "python",
   "nbconvert_exporter": "python",
   "pygments_lexer": "ipython3",
   "version": "3.6.4"
  }
 },
 "nbformat": 4,
 "nbformat_minor": 2
}
